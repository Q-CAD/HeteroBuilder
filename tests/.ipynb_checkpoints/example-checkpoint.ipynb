{
 "cells": [
  {
   "cell_type": "code",
   "execution_count": 1,
   "id": "5647de5b-5ac4-41a1-b215-b319b8a75844",
   "metadata": {},
   "outputs": [],
   "source": [
    "# package imports\n",
    "from pymatgen.analysis.interfaces.zsl import ZSLGenerator\n",
    "from pymatgen.core.structure import Structure\n",
    "from ase.visualize import view\n",
    "import numpy as np\n",
    "from datetime import datetime\n",
    "\n",
    "# class imports\n",
    "from vdW_structures.vdW_structure import VdWStructure\n",
    "from vdW_structures.vdW_heterostructure import VdWHeterostructureGenerator\n",
    "from vdW_structures.layer_shifter import LayerShifter\n",
    "from vdW_structures.unique_structures import UniqueStructureGetter"
   ]
  },
  {
   "cell_type": "markdown",
   "id": "98fe58e1-bd90-43ee-8c96-cdfac46bf82d",
   "metadata": {},
   "source": [
    "## Input Bulk Structures"
   ]
  },
  {
   "cell_type": "code",
   "execution_count": 2,
   "id": "4e69fc4f-4bee-4553-9018-1de3d3b190d8",
   "metadata": {},
   "outputs": [],
   "source": [
    "bise2 = Structure.from_file('original_structures/BiSe2.vasp')\n",
    "bi2se3 = Structure.from_file('original_structures/Bi2Se3.vasp')\n",
    "bi3se4 = Structure.from_file('original_structures/Bi3Se4.vasp')\n",
    "bi4se3 = Structure.from_file('original_structures/Bi4Se3.vasp')\n",
    "test = bi3se4"
   ]
  },
  {
   "cell_type": "markdown",
   "id": "039df08c-8f63-4d5a-8857-6bd2866a0e59",
   "metadata": {},
   "source": [
    "## Generate Starting vdW Subunits for BiSe2, Bi2Se3, Bi3Se4"
   ]
  },
  {
   "cell_type": "code",
   "execution_count": 3,
   "id": "fb3ed4e8-ecf3-4d15-a168-e9a979b8b20b",
   "metadata": {},
   "outputs": [
    {
     "name": "stdout",
     "output_type": "stream",
     "text": [
      "[[1, 0, 2]] [2.41]\n",
      "[[1, 0, 2]] [2.41]\n"
     ]
    }
   ],
   "source": [
    "vdW_bi2se3 = VdWStructure(bi2se3, minimum_vdW_gap=2.4)\n",
    "vdW_bi3se4 = VdWStructure(bi3se4, minimum_vdW_gap=2.4)\n",
    "vdW_bise2 = VdWStructure(bise2, minimum_vdW_gap=1.9)\n",
    "\n",
    "# Note: the vdW_bise2 structure has a smaller minimum vdW gap than vdW_bi2se3 and vdW_bi3se4, which could cause issues\n",
    "# To make this VdWStructure commensurate, create a vdW_gap in bise2 that is > 2.4\n",
    "\n",
    "#This can be done two ways (equivalent for this system):\n",
    "\n",
    "# Add vacuum to vdW_bise2. This works because bise2 is a single vdW unit. \n",
    "vdW_bise2_first = VdWStructure(vdW_bise2.set_vacuum(vacuum=2.41).structure, minimum_vdW_gap=2.4)\n",
    "print(vdW_bise2_first.vdW_layers, vdW_bise2_first.vdW_spacings)\n",
    "\n",
    "# Or, add padding to vdW layer 0 in vdW_bise2. This is how to change layer distances when multiple layers exist in a structure. \n",
    "vdW_bise2_second = VdWStructure(vdW_bise2.z_solve_shift_vdW_layers(layer_inds=0, \n",
    "                                                            solve_shift=2.41, \n",
    "                                                            adjust_z_cell=True).structure, \n",
    "                         minimum_vdW_gap=2.4)\n",
    "print(vdW_bise2_second.vdW_layers, vdW_bise2_second.vdW_spacings)"
   ]
  },
  {
   "cell_type": "code",
   "execution_count": 4,
   "id": "a2e9d9d3-16bb-4741-a8fa-222e7fc03ab8",
   "metadata": {},
   "outputs": [
    {
     "name": "stdout",
     "output_type": "stream",
     "text": [
      "[[10, 3, 9, 4, 14], [13, 5, 12, 0, 8], [7, 1, 6, 2, 11]] [2.9359044522460795, 2.9359044522460938, 2.9359044522460884]\n",
      "[[9, 1, 12, 3, 15, 5, 14], [13, 4, 16, 6, 19, 8, 18], [17, 7, 20, 0, 11, 2, 10]] [3.0050793718446416, 3.0050793718446407, 3.0050793718446407]\n",
      "[[1, 0, 2]] [2.41]\n"
     ]
    }
   ],
   "source": [
    "# Look at the arrangement of vdW layers (by structure indices) and interlayer distances between the layers\n",
    "print(vdW_bi2se3.vdW_layers, vdW_bi2se3.vdW_spacings)\n",
    "print(vdW_bi3se4.vdW_layers, vdW_bi3se4.vdW_spacings)\n",
    "print(vdW_bise2_second.vdW_layers, vdW_bise2_second.vdW_spacings)"
   ]
  },
  {
   "cell_type": "code",
   "execution_count": 5,
   "id": "e850ce93-92fb-4e41-b253-31feeaaee138",
   "metadata": {},
   "outputs": [
    {
     "data": {
      "application/vnd.jupyter.widget-view+json": {
       "model_id": "2aa6a39528fb45d39cf86a2abc2ea4d6",
       "version_major": 2,
       "version_minor": 0
      },
      "text/plain": []
     },
     "metadata": {},
     "output_type": "display_data"
    },
    {
     "data": {
      "application/vnd.jupyter.widget-view+json": {
       "model_id": "55004124e23e43ea85d56249f05986b1",
       "version_major": 2,
       "version_minor": 0
      },
      "text/plain": [
       "HBox(children=(NGLWidget(), VBox(children=(Dropdown(description='Show', options=('All', 'Bi', 'Se'), value='Al…"
      ]
     },
     "execution_count": 5,
     "metadata": {},
     "output_type": "execute_result"
    }
   ],
   "source": [
    "# View the vdW_bise2_second structure\n",
    "view(vdW_bise2_second.structure.to_ase_atoms(), viewer='ngl')"
   ]
  },
  {
   "cell_type": "code",
   "execution_count": 6,
   "id": "f2231b75-695b-4efd-be44-d91bfcf0e2e4",
   "metadata": {},
   "outputs": [],
   "source": [
    "# Choose which layers you'd like to include in the heterostructure construction\n",
    "# For the current example, it's sufficient to use a single vdW layer from each structure\n",
    "\n",
    "subunit_vdW_bi2se3_0 = vdW_bi2se3.extend_vdW_layers([0])\n",
    "subunit_vdW_bi3se4_1 = vdW_bi3se4.extend_vdW_layers([1])\n",
    "subunit_vdW_bise2_0 = vdW_bise2_second.extend_vdW_layers([0])"
   ]
  },
  {
   "cell_type": "code",
   "execution_count": 7,
   "id": "237268a4-e426-43b5-8a5e-01e64b9bb055",
   "metadata": {},
   "outputs": [
    {
     "data": {
      "application/vnd.jupyter.widget-view+json": {
       "model_id": "e6beab6424e4411384bb61d77e402ef2",
       "version_major": 2,
       "version_minor": 0
      },
      "text/plain": [
       "HBox(children=(NGLWidget(), VBox(children=(Dropdown(description='Show', options=('All', 'Bi', 'Se'), value='Al…"
      ]
     },
     "execution_count": 7,
     "metadata": {},
     "output_type": "execute_result"
    }
   ],
   "source": [
    "# Look at the Bi2Se3 subunit, with the appropriate vdW gap across the PBC\n",
    "view(subunit_vdW_bi2se3_0.structure.to_ase_atoms(), viewer='ngl')"
   ]
  },
  {
   "cell_type": "markdown",
   "id": "54ad7b33-ecd1-4ec3-b5e7-25335651a5e8",
   "metadata": {},
   "source": [
    "## Generate vdW Heterostructures"
   ]
  },
  {
   "cell_type": "code",
   "execution_count": 8,
   "id": "3e53c9c7-8847-4bce-b865-1681a1c6fdde",
   "metadata": {},
   "outputs": [
    {
     "name": "stderr",
     "output_type": "stream",
     "text": [
      "/Users/rym/miniconda3/lib/python3.9/site-packages/spglib/spglib.py:115: DeprecationWarning: dict interface (SpglibDataset['wyckoffs']) is deprecated.Use attribute interface ({self.__class__.__name__}.{key}) instead\n",
      "  warnings.warn(\n",
      "/Users/rym/miniconda3/lib/python3.9/site-packages/spglib/spglib.py:115: DeprecationWarning: dict interface (SpglibDataset['equivalent_atoms']) is deprecated.Use attribute interface ({self.__class__.__name__}.{key}) instead\n",
      "  warnings.warn(\n"
     ]
    },
    {
     "name": "stdout",
     "output_type": "stream",
     "text": [
      "Unique structures: 2\n",
      "Unique structures: 2\n",
      "Unique structures: 4\n",
      "Unique structures: 4\n",
      "Unique structures: 4\n",
      "0:00:12.435890\n",
      "[12, 24, 84, 84]\n"
     ]
    }
   ],
   "source": [
    "# This requires you to specify a ZSLGenerator structure, with the tolerances passed dictating the size(s) of vdW heterostructures generated\n",
    "\n",
    "# This ZSL object yields four unique heterostructures for Bi2Se3 on Bi3Se4\n",
    "\n",
    "bi2se3_bi3se4_zsl = ZSLGenerator(max_area_ratio_tol=0.5, \n",
    "                                 max_area=150, \n",
    "                                 max_length_tol=0.05, \n",
    "                                 max_angle_tol=0.05)\n",
    "\n",
    "vsg = VdWHeterostructureGenerator()\n",
    "start = datetime.now()\n",
    "vdW_heterostructures_bi2se3_bi3se4 = vsg.generate_unique_vdW_heterostructures(film=subunit_vdW_bi2se3_0, \n",
    "                                                                              substrate=subunit_vdW_bi3se4_1, \n",
    "                                                                              zsl_generator=bi2se3_bi3se4_zsl, \n",
    "                                                                              n_chunks=4, \n",
    "                                                                              ltol=0.2, stol=0.3, angle_tol=5)\n",
    "end = datetime.now()\n",
    "print(end - start)\n",
    "# Print the lengths of the unique heterostructures\n",
    "s_vdW_heterostructures_bi2se3_bi3se4 = sorted(vdW_heterostructures_bi2se3_bi3se4, key=lambda obj: len(obj.structure))\n",
    "\n",
    "\n",
    "print([len(heterostructure.structure) for heterostructure in s_vdW_heterostructures_bi2se3_bi3se4])\n"
   ]
  },
  {
   "cell_type": "code",
   "execution_count": 10,
   "id": "43caf0bd-7abe-42e7-8fba-5f1146767bf0",
   "metadata": {},
   "outputs": [
    {
     "data": {
      "application/vnd.jupyter.widget-view+json": {
       "model_id": "6f6c6c5f151d4ab384de80b6a41f0c00",
       "version_major": 2,
       "version_minor": 0
      },
      "text/plain": [
       "HBox(children=(NGLWidget(), VBox(children=(Dropdown(description='Show', options=('All', 'Bi', 'Se'), value='Al…"
      ]
     },
     "execution_count": 10,
     "metadata": {},
     "output_type": "execute_result"
    }
   ],
   "source": [
    "# We'll use the first heterostructure returned, which has the fewest # of atoms\n",
    "view(vdW_heterostructures_bi2se3_bi3se4[0].structure.to_ase_atoms(), viewer='ngl')"
   ]
  },
  {
   "cell_type": "code",
   "execution_count": 11,
   "id": "ce0f96a9-4fe7-4760-bc73-c7bfedc730c0",
   "metadata": {},
   "outputs": [
    {
     "name": "stderr",
     "output_type": "stream",
     "text": [
      "/Users/rym/miniconda3/lib/python3.9/site-packages/spglib/spglib.py:115: DeprecationWarning: dict interface (SpglibDataset['wyckoffs']) is deprecated.Use attribute interface ({self.__class__.__name__}.{key}) instead\n",
      "  warnings.warn(\n",
      "/Users/rym/miniconda3/lib/python3.9/site-packages/spglib/spglib.py:115: DeprecationWarning: dict interface (SpglibDataset['equivalent_atoms']) is deprecated.Use attribute interface ({self.__class__.__name__}.{key}) instead\n",
      "  warnings.warn(\n"
     ]
    },
    {
     "name": "stdout",
     "output_type": "stream",
     "text": [
      "Unique structures: 6\n",
      "Unique structures: 6\n",
      "Unique structures: 7\n",
      "Unique structures: 7\n",
      "Unique structures: 7\n",
      "[15, 30, 30, 45, 45, 60, 105]\n"
     ]
    }
   ],
   "source": [
    "# Add a BiSe2 film to this substrate\n",
    "bise2_bi2se3_bi3se4_zsl = ZSLGenerator(max_area_ratio_tol=0.5, \n",
    "                                 max_area=150, \n",
    "                                 max_length_tol=0.05, \n",
    "                                 max_angle_tol=0.05)\n",
    "\n",
    "vdW_heterostructures_bise2_bi2se3_bi3se4 = vsg.generate_unique_vdW_heterostructures(film=subunit_vdW_bise2_0, \n",
    "                                                                              substrate=vdW_heterostructures_bi2se3_bi3se4[0], \n",
    "                                                                              zsl_generator=bise2_bi2se3_bi3se4_zsl)\n",
    "\n",
    "# Print the lengths of the unique heterostructures\n",
    "print([len(heterostructure.structure) for heterostructure in vdW_heterostructures_bise2_bi2se3_bi3se4])"
   ]
  },
  {
   "cell_type": "code",
   "execution_count": 12,
   "id": "8957dbcd-3039-4927-b582-c29b373eec41",
   "metadata": {},
   "outputs": [
    {
     "data": {
      "application/vnd.jupyter.widget-view+json": {
       "model_id": "36375f29206542ff9d73e1bf7a83fb64",
       "version_major": 2,
       "version_minor": 0
      },
      "text/plain": [
       "HBox(children=(NGLWidget(), VBox(children=(Dropdown(description='Show', options=('All', 'Bi', 'Se'), value='Al…"
      ]
     },
     "execution_count": 12,
     "metadata": {},
     "output_type": "execute_result"
    }
   ],
   "source": [
    "# And view the first heterostructure generated\n",
    "view(vdW_heterostructures_bise2_bi2se3_bi3se4[0].structure.to_ase_atoms(), viewer='ngl')"
   ]
  },
  {
   "cell_type": "code",
   "execution_count": 13,
   "id": "d44dfd9c-1d4a-41a9-9ae4-76d4fab4b50b",
   "metadata": {},
   "outputs": [],
   "source": [
    "# Generate a cubic supercell for easier viewing\n",
    "\n",
    "from pymatgen.transformations.advanced_transformations import CubicSupercellTransformation\n",
    "cst = CubicSupercellTransformation(force_90_degrees=True)\n",
    "\n",
    "# Choose the heterostruture at index 3\n",
    "index = 1\n",
    "sc_heterostructure = VdWStructure(cst.apply_transformation(vdW_heterostructures_bise2_bi2se3_bi3se4[index].structure), \n",
    "                                            vdW_heterostructures_bise2_bi2se3_bi3se4[index].minimum_vdW_gap)"
   ]
  },
  {
   "cell_type": "code",
   "execution_count": 14,
   "id": "63157904-a7fa-4597-baf4-f39e1b374c79",
   "metadata": {},
   "outputs": [
    {
     "data": {
      "application/vnd.jupyter.widget-view+json": {
       "model_id": "d2be00eba0fa4a16865e28ac14c06110",
       "version_major": 2,
       "version_minor": 0
      },
      "text/plain": [
       "HBox(children=(NGLWidget(), VBox(children=(Dropdown(description='Show', options=('All', 'Bi', 'Se'), value='Al…"
      ]
     },
     "execution_count": 14,
     "metadata": {},
     "output_type": "execute_result"
    }
   ],
   "source": [
    "view(sc_heterostructure.structure.to_ase_atoms(), viewer='ngl')"
   ]
  },
  {
   "cell_type": "code",
   "execution_count": 15,
   "id": "d73e497e-abd2-4f7b-aad0-4dec4159e287",
   "metadata": {},
   "outputs": [
    {
     "data": {
      "text/plain": [
       "240"
      ]
     },
     "execution_count": 15,
     "metadata": {},
     "output_type": "execute_result"
    }
   ],
   "source": [
    "len(sc_heterostructure.structure)"
   ]
  },
  {
   "cell_type": "markdown",
   "id": "c9f2ac4e-4d08-411b-8f74-d753efe3e621",
   "metadata": {},
   "source": [
    "## Modifying the Heterostructure"
   ]
  },
  {
   "cell_type": "markdown",
   "id": "a4a15e07-dcc8-45dc-8e27-f4e5d78097b7",
   "metadata": {},
   "source": [
    "### Shift a layer within the fixed box"
   ]
  },
  {
   "cell_type": "code",
   "execution_count": 16,
   "id": "a14c9758-94a5-4159-8fb4-df8636c499df",
   "metadata": {},
   "outputs": [
    {
     "data": {
      "application/vnd.jupyter.widget-view+json": {
       "model_id": "50ff6e235710430bac1ccb9d050a560c",
       "version_major": 2,
       "version_minor": 0
      },
      "text/plain": [
       "HBox(children=(NGLWidget(), VBox(children=(Dropdown(description='Show', options=('All', 'Bi', 'Se'), value='Al…"
      ]
     },
     "execution_count": 16,
     "metadata": {},
     "output_type": "execute_result"
    }
   ],
   "source": [
    "# Can be performed for x, y , or z directions, but we'll shift relative to z because it's easiest to visualize\n",
    "\n",
    "z_shifted_layer_1 = sc_heterostructure.z_shift_vdW_layers(layer_inds=1, \n",
    "                                                          shift=-1.0, \n",
    "                                                          coords_are_cartesian=True)\n",
    "view(z_shifted_layer_1.structure.to_ase_atoms(), viewer='ngl')"
   ]
  },
  {
   "cell_type": "markdown",
   "id": "e2d16126-4ae8-46c0-9984-5952312e7527",
   "metadata": {},
   "source": [
    "### Increase interlayer distance, preserving other vdW spacings"
   ]
  },
  {
   "cell_type": "code",
   "execution_count": 17,
   "id": "59ea4315-6bfa-4b52-b4da-7e59efa05252",
   "metadata": {},
   "outputs": [
    {
     "data": {
      "application/vnd.jupyter.widget-view+json": {
       "model_id": "9bf99c3402b141a784bc619a0d3fc6fb",
       "version_major": 2,
       "version_minor": 0
      },
      "text/plain": [
       "HBox(children=(NGLWidget(), VBox(children=(Dropdown(description='Show', options=('All', 'Bi', 'Se'), value='Al…"
      ]
     },
     "execution_count": 17,
     "metadata": {},
     "output_type": "execute_result"
    }
   ],
   "source": [
    "# Increase a layer and increase box to preserve vdW spacing\n",
    "increased_gap_layer_2 = sc_heterostructure.z_solve_shift_vdW_layers(layer_inds=[2, 0], \n",
    "                                                                    solve_shift=[2.8, 3.4], \n",
    "                                                                    adjust_z_cell=True)\n",
    "view(increased_gap_layer_2.structure.to_ase_atoms(), viewer='ngl')"
   ]
  },
  {
   "cell_type": "code",
   "execution_count": 18,
   "id": "f6ae9624-8e65-486c-a097-78dc06ff9516",
   "metadata": {},
   "outputs": [
    {
     "name": "stdout",
     "output_type": "stream",
     "text": [
      "[3.400000000000006, 2.9359044522460724, 2.7999999999999936]\n"
     ]
    }
   ],
   "source": [
    "print(increased_gap_layer_2.vdW_spacings)"
   ]
  },
  {
   "cell_type": "markdown",
   "id": "beb807a4-5527-44c4-b621-8ceee62f6dc3",
   "metadata": {},
   "source": [
    "### Change the layering, so that it is Bi3Se4 - Bi2Se3 - BiSe2 - Bi2Se3"
   ]
  },
  {
   "cell_type": "code",
   "execution_count": 19,
   "id": "76d06136-4e29-4322-8ba0-d52fa2da6f33",
   "metadata": {},
   "outputs": [
    {
     "data": {
      "application/vnd.jupyter.widget-view+json": {
       "model_id": "d4a810f250274d1aa7d2d0024938601d",
       "version_major": 2,
       "version_minor": 0
      },
      "text/plain": [
       "HBox(children=(NGLWidget(), VBox(children=(Dropdown(description='Show', options=('All', 'Bi', 'Se'), value='Al…"
      ]
     },
     "execution_count": 19,
     "metadata": {},
     "output_type": "execute_result"
    }
   ],
   "source": [
    "modified_layering = sc_heterostructure.extend_vdW_layers([0, 1, 2, 1])\n",
    "view(modified_layering.structure.to_ase_atoms(), viewer='ngl')"
   ]
  },
  {
   "cell_type": "code",
   "execution_count": 20,
   "id": "295e9f76-e8cc-4c12-952a-0d74369aac8b",
   "metadata": {},
   "outputs": [
    {
     "name": "stdout",
     "output_type": "stream",
     "text": [
      "[3.005079371844629, 2.935904452246076, 2.4099999999999824, 2.93590445224606]\n"
     ]
    }
   ],
   "source": [
    "print(modified_layering.vdW_spacings)"
   ]
  },
  {
   "cell_type": "code",
   "execution_count": null,
   "id": "e0a0322a-fdc5-4e98-b299-9a9012ffeaed",
   "metadata": {},
   "outputs": [],
   "source": []
  }
 ],
 "metadata": {
  "kernelspec": {
   "display_name": "Python 3 (ipykernel)",
   "language": "python",
   "name": "python3"
  },
  "language_info": {
   "codemirror_mode": {
    "name": "ipython",
    "version": 3
   },
   "file_extension": ".py",
   "mimetype": "text/x-python",
   "name": "python",
   "nbconvert_exporter": "python",
   "pygments_lexer": "ipython3",
   "version": "3.9.19"
  }
 },
 "nbformat": 4,
 "nbformat_minor": 5
}
